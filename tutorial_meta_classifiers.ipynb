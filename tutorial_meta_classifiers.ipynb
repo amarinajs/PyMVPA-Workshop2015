{
 "metadata": {
  "name": "",
  "signature": "sha256:b12d7569dc4ccb3cfd1a2f65f5966228db3e5d170f466f4857e531bddf455e21"
 },
 "nbformat": 3,
 "nbformat_minor": 0,
 "worksheets": [
  {
   "cells": [
    {
     "cell_type": "heading",
     "level": 1,
     "metadata": {},
     "source": [
      "Classifiers that do more -- Meta Classifiers"
     ]
    },
    {
     "cell_type": "markdown",
     "metadata": {},
     "source": [
      "\n",
      "\n",
      "In *chap_tutorial_classifiers* we saw that it is possible to encapsulate a\n",
      "whole cross-validation analysis into a single object that can be called with\n",
      "any dataset to produce the desired results. We also saw that despite this\n",
      "encapsulation we can still get a fair amount of information about the performed\n",
      "analysis.  However, what happens if we want to do some further processing of\n",
      "the data **within** the cross-validation analysis. That seems to be difficult,\n",
      "since we feed a whole dataset into the analysis, and only internally does it\n",
      "get split into the respective pieces.\n",
      "\n",
      "Of course there is a solution to this problem -- a [meta-classifier](http://pymvpa.org/glossary.html#term-meta-classifier).\n",
      "This is a classifier that doesn't implement a classification algorithm on\n",
      "its own, but uses another classifier to do the actual work. In addition,\n",
      "the meta-classifier adds another processing step that is performed before\n",
      "the actual [base-classifier](http://pymvpa.org/glossary.html#term-base-classifier) sees the data.\n",
      "\n",
      "An example of such a meta-classifier is [MappedClassifier](http://pymvpa.org/generated/mvpa2.clfs.meta.MappedClassifier.html#mvpa2-clfs-meta-mappedclassifier).\n",
      "Its purpose is simple: Apply a mapper to both training and testing data\n",
      "before it is passed on to the internal base-classifier. With this technique\n",
      "it is possible to implement arbitrary pre-processing within a\n",
      "cross-validation analysis.\n",
      "\n",
      "Before we get into that, let's reproduce the dataset from\n",
      "*chap_tutorial_classifiers*:"
     ]
    },
    {
     "cell_type": "code",
     "collapsed": false,
     "input": [
      "from mvpa2.tutorial_suite import *\n",
      "datapath = os.path.join(tutorial_data_path, 'data')\n",
      "ds = load_tutorial_data(roi='vt')\n",
      "poly_detrend(ds, polyord=1, chunks_attr='chunks')\n",
      "zscore(ds, param_est=('targets', ['rest']))\n",
      "ds = ds[ds.sa.targets != 'rest']\n",
      "run_averager = mean_group_sample(['targets', 'chunks'])\n",
      "ds = ds.get_mapped(run_averager)\n",
      "ds.shape"
     ],
     "language": "python",
     "metadata": {},
     "outputs": [
      {
       "metadata": {},
       "output_type": "pyout",
       "prompt_number": 33,
       "text": [
        "(96, 577)"
       ]
      }
     ],
     "prompt_number": 33
    },
    {
     "cell_type": "markdown",
     "metadata": {},
     "source": [
      "\n",
      "\n",
      "Now, suppose we want to perform the classification not on voxel intensities\n",
      "themselves, but on the same samples in the space spanned by the singular\n",
      "vectors of the training data, it would look like this:"
     ]
    },
    {
     "cell_type": "code",
     "collapsed": false,
     "input": [
      "baseclf = LinearCSVMC()\n",
      "metaclf = MappedClassifier(baseclf, SVDMapper())\n",
      "cvte = CrossValidation(metaclf, NFoldPartitioner())\n",
      "cv_results = cvte(ds)\n",
      "print np.mean(cv_results)"
     ],
     "language": "python",
     "metadata": {},
     "outputs": [
      {
       "output_type": "stream",
       "stream": "stdout",
       "text": [
        "0.15625\n"
       ]
      }
     ],
     "prompt_number": 42
    },
    {
     "cell_type": "markdown",
     "metadata": {},
     "source": [
      "\n",
      "\n",
      "First we notice that little has been changed in the code and the results --\n",
      "the error is slightly reduced, but still comparable. The critical line is\n",
      "the second, where we create the [MappedClassifier](http://pymvpa.org/generated/mvpa2.clfs.meta.MappedClassifier.html#mvpa2-clfs-meta-mappedclassifier) from the\n",
      "SVM classifier instance, and a [SVDMapper](http://pymvpa.org/generated/mvpa2.mappers.svd.SVDMapper.html#mvpa2-mappers-svd-svdmapper) that\n",
      "implements [singular value decomposition](http://en.wikipedia.org/wiki/Singular_value_decomposition) as a mapper."
     ]
    },
    {
     "cell_type": "markdown",
     "metadata": {},
     "source": [
      "- - -\n",
      "**Exercise**\n",
      "\n",
      "\n",
      "\n",
      "What might be the reasons for the error decrease in comparison to the\n",
      "results on the dataset with voxel intensities?"
     ]
    },
    {
     "cell_type": "code",
     "collapsed": false,
     "input": [
      "# you can use this cell for this exercise\n",
      "baseclf = LinearCSVMC()\n",
      "cvte = CrossValidation(baseclf, NFoldPartitioner())\n",
      "cv_results = cvte(ds)\n",
      "print np.mean(cv_results)"
     ],
     "language": "python",
     "metadata": {},
     "outputs": [
      {
       "output_type": "stream",
       "stream": "stdout",
       "text": [
        "0.21875\n"
       ]
      }
     ],
     "prompt_number": 35
    },
    {
     "cell_type": "markdown",
     "metadata": {},
     "source": [
      "- - -\n",
      "\n",
      "\n",
      "We know that mappers can be combined into complex processing pipelines, and\n",
      "since [MappedClassifier](http://pymvpa.org/generated/mvpa2.clfs.meta.MappedClassifier.html#mvpa2-clfs-meta-mappedclassifier) takes any mapper as argument, we\n",
      "can implement arbitrary preprocessing steps within the cross-validation\n",
      "procedure. Let's say we have heard rumors that only the first two dimensions\n",
      "of the space spanned by the SVD vectors cover the \"interesting\" variance\n",
      "and the rest is noise. We can easily check that with an appropriate mapper:"
     ]
    },
    {
     "cell_type": "code",
     "collapsed": false,
     "input": [
      "mapper = ChainMapper([SVDMapper(), StaticFeatureSelection(slice(None, 2))])\n",
      "metaclf = MappedClassifier(baseclf, mapper)\n",
      "cvte = CrossValidation(metaclf, NFoldPartitioner())\n",
      "cv_results = cvte(ds)\n",
      "svm_err = np.mean(cv_results)\n",
      "print round(svm_err, 2)"
     ],
     "language": "python",
     "metadata": {},
     "outputs": [
      {
       "output_type": "stream",
       "stream": "stdout",
       "text": [
        "0.79\n"
       ]
      }
     ],
     "prompt_number": 23
    },
    {
     "cell_type": "markdown",
     "metadata": {},
     "source": [
      "\n",
      "\n",
      "Well, obviously the discarded components cannot only be noise, since the error\n",
      "is substantially increased. But maybe it is the classifier that cannot deal with\n",
      "the data. Since nothing in this code is specific to the actual classification\n",
      "algorithm we can easily go back to the kNN classifier that has served us well\n",
      "in the past."
     ]
    },
    {
     "cell_type": "code",
     "collapsed": false,
     "input": [
      "baseclf = kNN(k=1, dfx=one_minus_correlation, voting='majority')\n",
      "mapper = ChainMapper([SVDMapper(), StaticFeatureSelection(slice(None, 2))])\n",
      "metaclf = MappedClassifier(baseclf, mapper)\n",
      "cvte = CrossValidation(metaclf, NFoldPartitioner())\n",
      "cv_results = cvte(ds)\n",
      "np.mean(cv_results) < svm_err"
     ],
     "language": "python",
     "metadata": {},
     "outputs": [
      {
       "metadata": {},
       "output_type": "pyout",
       "prompt_number": 19,
       "text": [
        "False"
       ]
      }
     ],
     "prompt_number": 19
    },
    {
     "cell_type": "markdown",
     "metadata": {},
     "source": [
      "\n",
      "\n",
      "Oh, that was even worse. We would have to take a closer look at the data to\n",
      "figure out what is happening here."
     ]
    },
    {
     "cell_type": "markdown",
     "metadata": {},
     "source": [
      "- - -\n",
      "**Exercise**\n",
      "\n",
      "\n",
      "\n",
      "Inspect the confusion matrix of this analysis for both classifiers. What\n",
      "information is represented in the first two SVD components and what is not?\n",
      "Plot the samples of the full dataset after they have been mapped onto the\n",
      "first two SVD components. Why does the kNN classifier perform so bad in\n",
      "comparison to the SVM (hint: think about the distance function)?"
     ]
    },
    {
     "cell_type": "code",
     "collapsed": false,
     "input": [
      "mapper = ChainMapper([SVDMapper(), StaticFeatureSelection(slice(None, 2))])\n",
      "metaclf = MappedClassifier(baseclf, mapper)\n",
      "cvte = CrossValidation(metaclf, NFoldPartitioner(),enable_ca=['stats'])\n",
      "cv_results = cvte(ds)\n",
      "svm_err = np.mean(cv_results)\n",
      "print round(svm_err, 2)"
     ],
     "language": "python",
     "metadata": {},
     "outputs": [
      {
       "output_type": "stream",
       "stream": "stdout",
       "text": [
        "0.57\n"
       ]
      }
     ],
     "prompt_number": 43
    },
    {
     "cell_type": "code",
     "collapsed": false,
     "input": [
      "print cvte.ca.stats"
     ],
     "language": "python",
     "metadata": {},
     "outputs": [
      {
       "output_type": "stream",
       "stream": "stdout",
       "text": [
        "----------.\n",
        "predictions\\targets     bottle         cat          chair          face         house        scissors    scrambledpix      shoe\n",
        "            `------  ------------  ------------  ------------  ------------  ------------  ------------  ------------  ------------ P'   N'   FP   FN   PPV  NPV  TPR  SPC  FDR  MCC   F1\n",
        "       bottle             3             1             2             1             0             3             0             2       12   47    9    9  0.25 0.81 0.25 0.81 0.75  0.04 0.25\n",
        "        cat               1             3             0             0             0             1             0             3        8   47    5    9  0.38 0.81 0.25 0.88 0.62  0.11  0.3\n",
        "       chair              0             0             7             0             1             1             4             0       13   39    6    5  0.54 0.87 0.58 0.85 0.46  0.29 0.56\n",
        "        face              3             4             0             11            0             2             2             2       24   31   13    1  0.46 0.97 0.92  0.7 0.54  0.37 0.61\n",
        "       house              0             0             0             0             11            0             0             0       11   31    0    1    1  0.97 0.92   1    0   0.56 0.96\n",
        "      scissors            2             2             0             0             0             1             0             4        9   51    8   11  0.11 0.78 0.08 0.83 0.89 -0.07  0.1\n",
        "    scrambledpix          1             0             3             0             0             0             4             0        8   45    4    8   0.5 0.82 0.33  0.9  0.5  0.19  0.4\n",
        "        shoe              2             2             0             0             0             4             2             1       11   51   10   11  0.09 0.78 0.08  0.8 0.91 -0.09 0.09\n",
        "Per target:          ------------  ------------  ------------  ------------  ------------  ------------  ------------  ------------\n",
        "         P                12            12            12            12            12            12            12            12\n",
        "         N                84            84            84            84            84            84            84            84\n",
        "         TP               3             3             7             11            11            1             4             1\n",
        "         TN               38            38            34            30            30            40            37            40\n",
        "Summary \\ Means:     ------------  ------------  ------------  ------------  ------------  ------------  ------------  ------------ 12 42.75 6.88 6.88 0.42 0.85 0.43 0.85 0.58  0.18 0.41\n",
        "       CHI^2             220        p=2.9e-19\n",
        "        ACC              0.43\n",
        "        ACC%            42.71\n",
        "     # of sets            12       ACC(i) = 0.44-0.0031*i p=0.83 r=-0.07 r^2=0.01\n",
        "\n"
       ]
      }
     ],
     "prompt_number": 37
    },
    {
     "cell_type": "code",
     "collapsed": false,
     "input": [
      "# you can use this cell for this exercis\n",
      "cvte.ca.stats.plot();"
     ],
     "language": "python",
     "metadata": {},
     "outputs": [
      {
       "metadata": {},
       "output_type": "display_data",
       "png": "[encoded data removed]",
       "text": [
        "<matplotlib.figure.Figure at 0x7fcb185d95d0>"
       ]
      }
     ],
     "prompt_number": 44
    },
    {
     "cell_type": "code",
     "collapsed": false,
     "input": [
      "baseclf = kNN(k=1, dfx=one_minus_correlation, voting='majority')\n",
      "mapper = ChainMapper([SVDMapper(), StaticFeatureSelection(slice(None, 2))]) #the number [2] needs to be higher\n",
      "metaclf = MappedClassifier(baseclf, mapper)\n",
      "cvte = CrossValidation(metaclf, NFoldPartitioner(),enable_ca=['stats'])\n",
      "cv_results = cvte(ds)\n",
      "np.mean(cv_results) < svm_err"
     ],
     "language": "python",
     "metadata": {},
     "outputs": [
      {
       "metadata": {},
       "output_type": "pyout",
       "prompt_number": 39,
       "text": [
        "False"
       ]
      }
     ],
     "prompt_number": 39
    },
    {
     "cell_type": "code",
     "collapsed": false,
     "input": [
      "print cvte.ca.stats"
     ],
     "language": "python",
     "metadata": {},
     "outputs": [
      {
       "output_type": "stream",
       "stream": "stdout",
       "text": [
        "----------.\n",
        "predictions\\targets     bottle         cat          chair          face         house        scissors    scrambledpix      shoe\n",
        "            `------  ------------  ------------  ------------  ------------  ------------  ------------  ------------  ------------ P' N'  FP  FN  PPV  NPV  TPR  SPC  FDR  MCC   F1\n",
        "       bottle             6             8             3             0             6             7             0             8       38 20  32  6  0.16  0.7  0.5  0.3 0.84 -0.12 0.24\n",
        "        cat               0             0             0             0             0             0             0             0        0 32  0   12  nan 0.62   0    1   nan   0     0\n",
        "       chair              0             0             0             0             0             1             0             0        1 32  1   12   0  0.62   0  0.95   1  -0.07   0\n",
        "        face              6             4             6             12            6             4             11            2       51  8  39  0  0.24   1    1  0.17 0.76  0.15 0.38\n",
        "       house              0             0             0             0             0             0             0             0        0 32  0   12  nan 0.62   0    1   nan   0     0\n",
        "      scissors            0             0             0             0             0             0             0             0        0 32  0   12  nan 0.62   0    1   nan   0     0\n",
        "    scrambledpix          0             0             0             0             0             0             0             0        0 32  0   12  nan 0.62   0    1   nan   0     0\n",
        "        shoe              0             0             3             0             0             0             1             2        6 28  4   10 0.33 0.64 0.17 0.82 0.67 -0.01 0.22\n",
        "Per target:          ------------  ------------  ------------  ------------  ------------  ------------  ------------  ------------\n",
        "         P                12            12            12            12            12            12            12            12\n",
        "         N                84            84            84            84            84            84            84            84\n",
        "         TP               6             0             0             12            0             0             0             2\n",
        "         TN               14            20            20            8             20            20            20            18\n",
        "Summary \\ Means:     ------------  ------------  ------------  ------------  ------------  ------------  ------------  ------------ 12 27 9.5 9.5  nan 0.68 0.21 0.78  nan -0.01 0.11\n",
        "       CHI^2            358.67      p=5.8e-43\n",
        "        ACC              0.21\n",
        "        ACC%            20.83\n",
        "     # of sets            12       ACC(i) = 0.29-0.014*i p=0 r=-0.82 r^2=0.67\n",
        "\n"
       ]
      }
     ],
     "prompt_number": 40
    },
    {
     "cell_type": "code",
     "collapsed": false,
     "input": [
      "cvte.ca.stats.plot()"
     ],
     "language": "python",
     "metadata": {},
     "outputs": [
      {
       "metadata": {},
       "output_type": "pyout",
       "prompt_number": 41,
       "text": [
        "(<matplotlib.figure.Figure at 0x7fcb188cb3d0>,\n",
        " <matplotlib.image.AxesImage at 0x7fcb186be410>,\n",
        " <matplotlib.colorbar.Colorbar instance at 0x7fcb1863dc68>)"
       ]
      },
      {
       "metadata": {},
       "output_type": "display_data",
       "png": "[encoded data removed]",
       "text": [
        "<matplotlib.figure.Figure at 0x7fcb188cb3d0>"
       ]
      }
     ],
     "prompt_number": 41
    },
    {
     "cell_type": "markdown",
     "metadata": {},
     "source": [
      "- - -\n",
      "\n",
      "\n",
      "In this tutorial part we took a look at classifiers. We have seen that,\n",
      "regardless of the actual algorithm, all classifiers are implementing the same\n",
      "interface. Because of this, they can be replaced by another classifier without\n",
      "having to change any other part of the analysis code. Moreover, we have seen\n",
      "that it is possible to enable and access optional information that is offered\n",
      "by particular parts of the processing pipeline."
     ]
    }
   ],
   "metadata": {}
  }
 ]
}